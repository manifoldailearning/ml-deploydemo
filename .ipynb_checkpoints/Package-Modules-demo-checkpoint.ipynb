{
 "cells": [
  {
   "cell_type": "code",
   "execution_count": 1,
   "id": "c63540a7-40ba-4027-9e7b-3f8db9f8c514",
   "metadata": {
    "tags": []
   },
   "outputs": [],
   "source": [
    "import example"
   ]
  },
  {
   "cell_type": "code",
   "execution_count": 3,
   "id": "bb52b020-46dd-4bbd-a625-0c306b6ba189",
   "metadata": {
    "tags": []
   },
   "outputs": [
    {
     "data": {
      "text/plain": [
       "100"
      ]
     },
     "execution_count": 3,
     "metadata": {},
     "output_type": "execute_result"
    }
   ],
   "source": [
    "example.my_var"
   ]
  },
  {
   "cell_type": "code",
   "execution_count": 4,
   "id": "52f75b72-1986-4d7e-911c-3ac491ec7828",
   "metadata": {
    "tags": []
   },
   "outputs": [
    {
     "data": {
      "text/plain": [
       "'something'"
      ]
     },
     "execution_count": 4,
     "metadata": {},
     "output_type": "execute_result"
    }
   ],
   "source": [
    "example.print_something()"
   ]
  },
  {
   "cell_type": "code",
   "execution_count": 5,
   "id": "b5ea0879-ebad-4859-8198-4fec6c681bf7",
   "metadata": {
    "tags": []
   },
   "outputs": [],
   "source": [
    "import PackageA"
   ]
  },
  {
   "cell_type": "code",
   "execution_count": 6,
   "id": "57f34d31-c32b-4db7-bc61-085b8fcf772c",
   "metadata": {
    "tags": []
   },
   "outputs": [],
   "source": [
    "import PackageA.modA "
   ]
  },
  {
   "cell_type": "code",
   "execution_count": 8,
   "id": "2bc2254c-2211-4054-9257-456258e8160f",
   "metadata": {
    "tags": []
   },
   "outputs": [
    {
     "data": {
      "text/plain": [
       "'Output from Module A from package A'"
      ]
     },
     "execution_count": 8,
     "metadata": {},
     "output_type": "execute_result"
    }
   ],
   "source": [
    "PackageA.modA.print_something()"
   ]
  },
  {
   "cell_type": "code",
   "execution_count": null,
   "id": "3410f128-3e7e-4b2a-afc8-83e859109214",
   "metadata": {},
   "outputs": [],
   "source": []
  }
 ],
 "metadata": {
  "kernelspec": {
   "display_name": "Python 3 (ipykernel)",
   "language": "python",
   "name": "python3"
  },
  "language_info": {
   "codemirror_mode": {
    "name": "ipython",
    "version": 3
   },
   "file_extension": ".py",
   "mimetype": "text/x-python",
   "name": "python",
   "nbconvert_exporter": "python",
   "pygments_lexer": "ipython3",
   "version": "3.11.3"
  }
 },
 "nbformat": 4,
 "nbformat_minor": 5
}
